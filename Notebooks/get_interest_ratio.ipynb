{
 "cells": [
  {
   "cell_type": "code",
   "execution_count": 2,
   "metadata": {},
   "outputs": [],
   "source": [
    "import eurostat\n",
    "\n",
    "from pygold.graphs import configurar_grafica\n",
    "\n",
    "# Obtener lista de todos los datos disponibles y buscar alguno de interés\n",
    "df_list = eurostat.get_toc_df()\n",
    "\n",
    "configurar_grafica()"
   ]
  },
  {
   "cell_type": "code",
   "execution_count": 3,
   "metadata": {},
   "outputs": [],
   "source": [
    "df_list['title_lowercase'] = df_list['title'].str.lower()"
   ]
  },
  {
   "cell_type": "code",
   "execution_count": 4,
   "metadata": {},
   "outputs": [],
   "source": [
    "# estos son los que nos interesan\n",
    "productos_interes = [x for x in [x.lower() for x in df_list['title'].unique().tolist()] if 'interest' in x]"
   ]
  },
  {
   "cell_type": "code",
   "execution_count": 5,
   "metadata": {},
   "outputs": [
    {
     "data": {
      "text/html": [
       "<div>\n",
       "<style scoped>\n",
       "    .dataframe tbody tr th:only-of-type {\n",
       "        vertical-align: middle;\n",
       "    }\n",
       "\n",
       "    .dataframe tbody tr th {\n",
       "        vertical-align: top;\n",
       "    }\n",
       "\n",
       "    .dataframe thead th {\n",
       "        text-align: right;\n",
       "    }\n",
       "</style>\n",
       "<table border=\"1\" class=\"dataframe\">\n",
       "  <thead>\n",
       "    <tr style=\"text-align: right;\">\n",
       "      <th></th>\n",
       "      <th>title</th>\n",
       "      <th>code</th>\n",
       "      <th>type</th>\n",
       "      <th>last update of data</th>\n",
       "      <th>last table structure change</th>\n",
       "      <th>data start</th>\n",
       "      <th>data end</th>\n",
       "      <th>title_lowercase</th>\n",
       "    </tr>\n",
       "  </thead>\n",
       "  <tbody>\n",
       "    <tr>\n",
       "      <th>1853</th>\n",
       "      <td>Interest rates - monthly data</td>\n",
       "      <td>EI_MFIR_M</td>\n",
       "      <td>dataset</td>\n",
       "      <td>2024-09-12T11:00:00+0200</td>\n",
       "      <td>2024-09-12T11:00:00+0200</td>\n",
       "      <td>1980-01</td>\n",
       "      <td>2024-08</td>\n",
       "      <td>interest rates - monthly data</td>\n",
       "    </tr>\n",
       "    <tr>\n",
       "      <th>1925</th>\n",
       "      <td>Loan and deposit one year interest rate</td>\n",
       "      <td>ENPE_IRT_LD</td>\n",
       "      <td>dataset</td>\n",
       "      <td>2024-01-31T23:00:00+0100</td>\n",
       "      <td>2024-01-31T23:00:00+0100</td>\n",
       "      <td>2005</td>\n",
       "      <td>2022</td>\n",
       "      <td>loan and deposit one year interest rate</td>\n",
       "    </tr>\n",
       "    <tr>\n",
       "      <th>1930</th>\n",
       "      <td>Money market interest rates</td>\n",
       "      <td>ENPE_IRT_ST</td>\n",
       "      <td>dataset</td>\n",
       "      <td>2024-01-31T23:00:00+0100</td>\n",
       "      <td>2024-01-31T23:00:00+0100</td>\n",
       "      <td>2005</td>\n",
       "      <td>2022</td>\n",
       "      <td>money market interest rates</td>\n",
       "    </tr>\n",
       "    <tr>\n",
       "      <th>3524</th>\n",
       "      <td>Money market interest rates - annual data</td>\n",
       "      <td>IRT_ST_A</td>\n",
       "      <td>dataset</td>\n",
       "      <td>2024-02-07T11:00:00+0100</td>\n",
       "      <td>2024-01-06T11:00:00+0100</td>\n",
       "      <td>1970</td>\n",
       "      <td>2023</td>\n",
       "      <td>money market interest rates - annual data</td>\n",
       "    </tr>\n",
       "    <tr>\n",
       "      <th>3526</th>\n",
       "      <td>Money market interest rates - monthly data</td>\n",
       "      <td>IRT_ST_M</td>\n",
       "      <td>dataset</td>\n",
       "      <td>2024-09-12T11:00:00+0200</td>\n",
       "      <td>2024-09-06T11:00:00+0200</td>\n",
       "      <td>1970-01</td>\n",
       "      <td>2024-08</td>\n",
       "      <td>money market interest rates - monthly data</td>\n",
       "    </tr>\n",
       "    <tr>\n",
       "      <th>3528</th>\n",
       "      <td>Money market interest rates - quarterly data</td>\n",
       "      <td>IRT_ST_Q</td>\n",
       "      <td>dataset</td>\n",
       "      <td>2024-08-06T11:00:00+0200</td>\n",
       "      <td>2024-07-05T11:00:00+0200</td>\n",
       "      <td>1970-Q1</td>\n",
       "      <td>2024-Q2</td>\n",
       "      <td>money market interest rates - quarterly data</td>\n",
       "    </tr>\n",
       "    <tr>\n",
       "      <th>6493</th>\n",
       "      <td>3-month-interest rate</td>\n",
       "      <td>TEIMF040</td>\n",
       "      <td>dataset</td>\n",
       "      <td>2024-09-12T11:00:00+0200</td>\n",
       "      <td>2024-09-12T11:00:00+0200</td>\n",
       "      <td>2023-09</td>\n",
       "      <td>2024-08</td>\n",
       "      <td>3-month-interest rate</td>\n",
       "    </tr>\n",
       "    <tr>\n",
       "      <th>6500</th>\n",
       "      <td>Day-to-day money market interest rates</td>\n",
       "      <td>TEIMF100</td>\n",
       "      <td>dataset</td>\n",
       "      <td>2024-09-12T11:00:00+0200</td>\n",
       "      <td>2024-09-12T11:00:00+0200</td>\n",
       "      <td>2023-09</td>\n",
       "      <td>2024-08</td>\n",
       "      <td>day-to-day money market interest rates</td>\n",
       "    </tr>\n",
       "    <tr>\n",
       "      <th>7416</th>\n",
       "      <td>Interests payable and similar charges by produ...</td>\n",
       "      <td>SBS_CRE_PINTPAY</td>\n",
       "      <td>dataset</td>\n",
       "      <td>2017-10-25T23:00:00+0200</td>\n",
       "      <td>2024-01-03T23:00:00+0100</td>\n",
       "      <td>1997</td>\n",
       "      <td>2001</td>\n",
       "      <td>interests payable and similar charges by produ...</td>\n",
       "    </tr>\n",
       "    <tr>\n",
       "      <th>7419</th>\n",
       "      <td>Interests receivable and similar income by pro...</td>\n",
       "      <td>SBS_CRE_PINTREX</td>\n",
       "      <td>dataset</td>\n",
       "      <td>2017-10-25T23:00:00+0200</td>\n",
       "      <td>2024-01-03T23:00:00+0100</td>\n",
       "      <td>1997</td>\n",
       "      <td>2001</td>\n",
       "      <td>interests receivable and similar income by pro...</td>\n",
       "    </tr>\n",
       "  </tbody>\n",
       "</table>\n",
       "</div>"
      ],
      "text/plain": [
       "                                                  title             code  \\\n",
       "1853                      Interest rates - monthly data        EI_MFIR_M   \n",
       "1925            Loan and deposit one year interest rate      ENPE_IRT_LD   \n",
       "1930                        Money market interest rates      ENPE_IRT_ST   \n",
       "3524          Money market interest rates - annual data         IRT_ST_A   \n",
       "3526         Money market interest rates - monthly data         IRT_ST_M   \n",
       "3528       Money market interest rates - quarterly data         IRT_ST_Q   \n",
       "6493                              3-month-interest rate         TEIMF040   \n",
       "6500             Day-to-day money market interest rates         TEIMF100   \n",
       "7416  Interests payable and similar charges by produ...  SBS_CRE_PINTPAY   \n",
       "7419  Interests receivable and similar income by pro...  SBS_CRE_PINTREX   \n",
       "\n",
       "         type       last update of data last table structure change  \\\n",
       "1853  dataset  2024-09-12T11:00:00+0200    2024-09-12T11:00:00+0200   \n",
       "1925  dataset  2024-01-31T23:00:00+0100    2024-01-31T23:00:00+0100   \n",
       "1930  dataset  2024-01-31T23:00:00+0100    2024-01-31T23:00:00+0100   \n",
       "3524  dataset  2024-02-07T11:00:00+0100    2024-01-06T11:00:00+0100   \n",
       "3526  dataset  2024-09-12T11:00:00+0200    2024-09-06T11:00:00+0200   \n",
       "3528  dataset  2024-08-06T11:00:00+0200    2024-07-05T11:00:00+0200   \n",
       "6493  dataset  2024-09-12T11:00:00+0200    2024-09-12T11:00:00+0200   \n",
       "6500  dataset  2024-09-12T11:00:00+0200    2024-09-12T11:00:00+0200   \n",
       "7416  dataset  2017-10-25T23:00:00+0200    2024-01-03T23:00:00+0100   \n",
       "7419  dataset  2017-10-25T23:00:00+0200    2024-01-03T23:00:00+0100   \n",
       "\n",
       "     data start data end                                    title_lowercase  \n",
       "1853    1980-01  2024-08                      interest rates - monthly data  \n",
       "1925       2005     2022            loan and deposit one year interest rate  \n",
       "1930       2005     2022                        money market interest rates  \n",
       "3524       1970     2023          money market interest rates - annual data  \n",
       "3526    1970-01  2024-08         money market interest rates - monthly data  \n",
       "3528    1970-Q1  2024-Q2       money market interest rates - quarterly data  \n",
       "6493    2023-09  2024-08                              3-month-interest rate  \n",
       "6500    2023-09  2024-08             day-to-day money market interest rates  \n",
       "7416       1997     2001  interests payable and similar charges by produ...  \n",
       "7419       1997     2001  interests receivable and similar income by pro...  "
      ]
     },
     "execution_count": 5,
     "metadata": {},
     "output_type": "execute_result"
    }
   ],
   "source": [
    "df_list[df_list['title_lowercase'].isin(productos_interes)]"
   ]
  },
  {
   "cell_type": "code",
   "execution_count": 6,
   "metadata": {},
   "outputs": [
    {
     "name": "stdout",
     "output_type": "stream",
     "text": [
      "  freq s_adj p_adj      indic geo\\TIME_PERIOD  1980-01  1980-02  1980-03  \\\n",
      "0    M   NSA   NAP  MF-3MI-RT              BG      NaN      NaN      NaN   \n",
      "1    M   NSA   NAP  MF-3MI-RT              CZ      NaN      NaN      NaN   \n",
      "2    M   NSA   NAP  MF-3MI-RT              DK     16.0     18.0     19.0   \n",
      "3    M   NSA   NAP  MF-3MI-RT              EA      NaN      NaN      NaN   \n",
      "4    M   NSA   NAP  MF-3MI-RT              HR      NaN      NaN      NaN   \n",
      "\n",
      "   1980-04  1980-05  ...  2023-11  2023-12  2024-01  2024-02  2024-03  \\\n",
      "0      NaN      NaN  ...      NaN      NaN      NaN      NaN      NaN   \n",
      "1      NaN      NaN  ...   7.0600   6.9700   6.6300   6.2000   5.8400   \n",
      "2     19.0     19.0  ...   3.9520   3.9068   3.8895   3.8779   3.8788   \n",
      "3      NaN      NaN  ...   3.9716   3.9331   3.9253   3.9232   3.9224   \n",
      "4      NaN      NaN  ...      NaN      NaN      NaN      NaN      NaN   \n",
      "\n",
      "   2024-04  2024-05  2024-06  2024-07  2024-08  \n",
      "0      NaN      NaN      NaN      NaN      NaN  \n",
      "1   5.5500   5.1700   5.0300   4.6100   4.4100  \n",
      "2   3.8225   3.7343   3.6474   3.5870   3.4462  \n",
      "3   3.8864   3.8137   3.7245   3.6848   3.5476  \n",
      "4      NaN      NaN      NaN      NaN      NaN  \n",
      "\n",
      "[5 rows x 541 columns]\n",
      "Index(['freq', 's_adj', 'p_adj', 'indic', 'geo\\TIME_PERIOD', '1980-01',\n",
      "       '1980-02', '1980-03', '1980-04', '1980-05',\n",
      "       ...\n",
      "       '2023-11', '2023-12', '2024-01', '2024-02', '2024-03', '2024-04',\n",
      "       '2024-05', '2024-06', '2024-07', '2024-08'],\n",
      "      dtype='object', length=541)\n"
     ]
    }
   ],
   "source": [
    "import eurostat\n",
    "import pandas as pd\n",
    "\n",
    "# Código del dataset de tasas de interés que encontraste: \"EI_MFIR_M\"\n",
    "dataset_code = \"EI_MFIR_M\"\n",
    "\n",
    "# Descargar los datos desde Eurostat\n",
    "interest_rate_data = eurostat.get_data_df(dataset_code)\n",
    "\n",
    "# Mostrar las primeras filas del DataFrame descargado\n",
    "print(interest_rate_data.head())\n",
    "\n",
    "# Ver el resumen de las columnas disponibles\n",
    "print(interest_rate_data.columns)\n"
   ]
  },
  {
   "cell_type": "code",
   "execution_count": 7,
   "metadata": {},
   "outputs": [],
   "source": [
    "# Filtrar por un país específico si la columna 'geo' está presente (ejemplo: 'ES' para España)\n",
    "spain_data = interest_rate_data[interest_rate_data['geo\\TIME_PERIOD'] == 'ES']\n"
   ]
  },
  {
   "cell_type": "code",
   "execution_count": 8,
   "metadata": {},
   "outputs": [
    {
     "name": "stderr",
     "output_type": "stream",
     "text": [
      "/var/folders/qy/_4dy6hwn4lx87rpthff73ql80000gn/T/ipykernel_32050/1577449130.py:1: SettingWithCopyWarning: \n",
      "A value is trying to be set on a copy of a slice from a DataFrame\n",
      "\n",
      "See the caveats in the documentation: https://pandas.pydata.org/pandas-docs/stable/user_guide/indexing.html#returning-a-view-versus-a-copy\n",
      "  spain_data.drop(columns=['freq', 's_adj', 'p_adj', 'indic', 'geo\\TIME_PERIOD'], inplace=True)\n"
     ]
    }
   ],
   "source": [
    "spain_data.drop(columns=['freq', 's_adj', 'p_adj', 'indic', 'geo\\TIME_PERIOD'], inplace=True)"
   ]
  },
  {
   "cell_type": "code",
   "execution_count": 9,
   "metadata": {},
   "outputs": [],
   "source": [
    "spain_data = spain_data.T\n",
    "\n",
    "spain_data.columns = ['INTEREST_RATIO']"
   ]
  },
  {
   "cell_type": "code",
   "execution_count": 13,
   "metadata": {},
   "outputs": [
    {
     "data": {
      "text/plain": [
       "<Axes: title={'center': 'Interest rate in Spain'}>"
      ]
     },
     "execution_count": 13,
     "metadata": {},
     "output_type": "execute_result"
    },
    {
     "data": {
      "image/png": "[encoded data removed]",
      "text/plain": [
       "<Figure size 1600x500 with 1 Axes>"
      ]
     },
     "metadata": {},
     "output_type": "display_data"
    }
   ],
   "source": [
    "spain_data.plot(figsize=(16, 5), title='Interest rate in Spain', legend=False)"
   ]
  },
  {
   "cell_type": "code",
   "execution_count": null,
   "metadata": {},
   "outputs": [],
   "source": [
    "spain_data.plot(backend='plotly')"
   ]
  },
  {
   "cell_type": "code",
   "execution_count": null,
   "metadata": {},
   "outputs": [],
   "source": [
    "\n",
    "\n",
    "# Conversión de fechas a objetos datetime si el periodo está en formato temporal (por ejemplo \"time\")\n",
    "if 'time' in interest_rate_data.columns:\n",
    "    interest_rate_data['time'] = pd.to_datetime(interest_rate_data['time'])\n",
    "\n",
    "    # Mostrar los primeros registros después de convertir las fechas\n",
    "    print(interest_rate_data.head())\n"
   ]
  },
  {
   "cell_type": "markdown",
   "metadata": {},
   "source": [
    "# Bonos del tesoro a 10 años"
   ]
  },
  {
   "cell_type": "code",
   "execution_count": 14,
   "metadata": {},
   "outputs": [
    {
     "name": "stderr",
     "output_type": "stream",
     "text": [
      "[*********************100%***********************]  1 of 1 completed"
     ]
    },
    {
     "name": "stdout",
     "output_type": "stream",
     "text": [
      "             Open   High    Low  Close  Adj Close  Volume\n",
      "Date                                                     \n",
      "2019-01-02  2.652  2.679  2.649  2.661      2.661       0\n",
      "2019-01-03  2.654  2.656  2.554  2.554      2.554       0\n",
      "2019-01-04  2.599  2.673  2.597  2.659      2.659       0\n",
      "2019-01-07  2.634  2.687  2.632  2.682      2.682       0\n",
      "2019-01-08  2.701  2.717  2.696  2.716      2.716       0\n"
     ]
    },
    {
     "name": "stderr",
     "output_type": "stream",
     "text": [
      "\n"
     ]
    }
   ],
   "source": [
    "import yfinance as yf\n",
    "import pandas as pd\n",
    "\n",
    "# Descargar datos del bono del Tesoro a 10 años (GS10)\n",
    "ticker = \"^TNX\"\n",
    "\n",
    "# Descargar datos, aquí especificamos el periodo, en este caso los últimos 5 años\n",
    "data = yf.download(ticker, start=\"2019-01-01\", end=\"2024-01-01\")\n",
    "\n",
    "# Mostramos los primeros registros del DataFrame\n",
    "print(data.head())\n"
   ]
  },
  {
   "cell_type": "code",
   "execution_count": 15,
   "metadata": {},
   "outputs": [
    {
     "data": {
      "text/html": [
       "<div>\n",
       "<style scoped>\n",
       "    .dataframe tbody tr th:only-of-type {\n",
       "        vertical-align: middle;\n",
       "    }\n",
       "\n",
       "    .dataframe tbody tr th {\n",
       "        vertical-align: top;\n",
       "    }\n",
       "\n",
       "    .dataframe thead th {\n",
       "        text-align: right;\n",
       "    }\n",
       "</style>\n",
       "<table border=\"1\" class=\"dataframe\">\n",
       "  <thead>\n",
       "    <tr style=\"text-align: right;\">\n",
       "      <th></th>\n",
       "      <th>Open</th>\n",
       "      <th>High</th>\n",
       "      <th>Low</th>\n",
       "      <th>Close</th>\n",
       "      <th>Adj Close</th>\n",
       "      <th>Volume</th>\n",
       "    </tr>\n",
       "    <tr>\n",
       "      <th>Date</th>\n",
       "      <th></th>\n",
       "      <th></th>\n",
       "      <th></th>\n",
       "      <th></th>\n",
       "      <th></th>\n",
       "      <th></th>\n",
       "    </tr>\n",
       "  </thead>\n",
       "  <tbody>\n",
       "    <tr>\n",
       "      <th>2019-01-02</th>\n",
       "      <td>2.652</td>\n",
       "      <td>2.679</td>\n",
       "      <td>2.649</td>\n",
       "      <td>2.661</td>\n",
       "      <td>2.661</td>\n",
       "      <td>0</td>\n",
       "    </tr>\n",
       "    <tr>\n",
       "      <th>2019-01-03</th>\n",
       "      <td>2.654</td>\n",
       "      <td>2.656</td>\n",
       "      <td>2.554</td>\n",
       "      <td>2.554</td>\n",
       "      <td>2.554</td>\n",
       "      <td>0</td>\n",
       "    </tr>\n",
       "    <tr>\n",
       "      <th>2019-01-04</th>\n",
       "      <td>2.599</td>\n",
       "      <td>2.673</td>\n",
       "      <td>2.597</td>\n",
       "      <td>2.659</td>\n",
       "      <td>2.659</td>\n",
       "      <td>0</td>\n",
       "    </tr>\n",
       "    <tr>\n",
       "      <th>2019-01-07</th>\n",
       "      <td>2.634</td>\n",
       "      <td>2.687</td>\n",
       "      <td>2.632</td>\n",
       "      <td>2.682</td>\n",
       "      <td>2.682</td>\n",
       "      <td>0</td>\n",
       "    </tr>\n",
       "    <tr>\n",
       "      <th>2019-01-08</th>\n",
       "      <td>2.701</td>\n",
       "      <td>2.717</td>\n",
       "      <td>2.696</td>\n",
       "      <td>2.716</td>\n",
       "      <td>2.716</td>\n",
       "      <td>0</td>\n",
       "    </tr>\n",
       "    <tr>\n",
       "      <th>...</th>\n",
       "      <td>...</td>\n",
       "      <td>...</td>\n",
       "      <td>...</td>\n",
       "      <td>...</td>\n",
       "      <td>...</td>\n",
       "      <td>...</td>\n",
       "    </tr>\n",
       "    <tr>\n",
       "      <th>2023-12-22</th>\n",
       "      <td>3.852</td>\n",
       "      <td>3.919</td>\n",
       "      <td>3.849</td>\n",
       "      <td>3.901</td>\n",
       "      <td>3.901</td>\n",
       "      <td>0</td>\n",
       "    </tr>\n",
       "    <tr>\n",
       "      <th>2023-12-26</th>\n",
       "      <td>3.908</td>\n",
       "      <td>3.908</td>\n",
       "      <td>3.882</td>\n",
       "      <td>3.886</td>\n",
       "      <td>3.886</td>\n",
       "      <td>0</td>\n",
       "    </tr>\n",
       "    <tr>\n",
       "      <th>2023-12-27</th>\n",
       "      <td>3.852</td>\n",
       "      <td>3.852</td>\n",
       "      <td>3.785</td>\n",
       "      <td>3.789</td>\n",
       "      <td>3.789</td>\n",
       "      <td>0</td>\n",
       "    </tr>\n",
       "    <tr>\n",
       "      <th>2023-12-28</th>\n",
       "      <td>3.818</td>\n",
       "      <td>3.861</td>\n",
       "      <td>3.800</td>\n",
       "      <td>3.850</td>\n",
       "      <td>3.850</td>\n",
       "      <td>0</td>\n",
       "    </tr>\n",
       "    <tr>\n",
       "      <th>2023-12-29</th>\n",
       "      <td>3.879</td>\n",
       "      <td>3.898</td>\n",
       "      <td>3.847</td>\n",
       "      <td>3.866</td>\n",
       "      <td>3.866</td>\n",
       "      <td>0</td>\n",
       "    </tr>\n",
       "  </tbody>\n",
       "</table>\n",
       "<p>1258 rows × 6 columns</p>\n",
       "</div>"
      ],
      "text/plain": [
       "             Open   High    Low  Close  Adj Close  Volume\n",
       "Date                                                     \n",
       "2019-01-02  2.652  2.679  2.649  2.661      2.661       0\n",
       "2019-01-03  2.654  2.656  2.554  2.554      2.554       0\n",
       "2019-01-04  2.599  2.673  2.597  2.659      2.659       0\n",
       "2019-01-07  2.634  2.687  2.632  2.682      2.682       0\n",
       "2019-01-08  2.701  2.717  2.696  2.716      2.716       0\n",
       "...           ...    ...    ...    ...        ...     ...\n",
       "2023-12-22  3.852  3.919  3.849  3.901      3.901       0\n",
       "2023-12-26  3.908  3.908  3.882  3.886      3.886       0\n",
       "2023-12-27  3.852  3.852  3.785  3.789      3.789       0\n",
       "2023-12-28  3.818  3.861  3.800  3.850      3.850       0\n",
       "2023-12-29  3.879  3.898  3.847  3.866      3.866       0\n",
       "\n",
       "[1258 rows x 6 columns]"
      ]
     },
     "execution_count": 15,
     "metadata": {},
     "output_type": "execute_result"
    }
   ],
   "source": [
    "data"
   ]
  }
 ],
 "metadata": {
  "kernelspec": {
   "display_name": "pygold311",
   "language": "python",
   "name": "python3"
  },
  "language_info": {
   "codemirror_mode": {
    "name": "ipython",
    "version": 3
   },
   "file_extension": ".py",
   "mimetype": "text/x-python",
   "name": "python",
   "nbconvert_exporter": "python",
   "pygments_lexer": "ipython3",
   "version": "3.11.10"
  }
 },
 "nbformat": 4,
 "nbformat_minor": 2
}
