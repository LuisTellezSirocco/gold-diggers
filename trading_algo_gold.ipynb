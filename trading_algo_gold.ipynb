{
 "cells": [
  {
   "cell_type": "code",
   "execution_count": 1,
   "metadata": {},
   "outputs": [],
   "source": [
    "import warnings\n",
    "\n",
    "import matplotlib.pyplot as plt\n",
    "import numpy as np\n",
    "import pandas as pd\n",
    "\n",
    "from pygold.graphs import configurar_grafica\n",
    "from pygold.download import descargar_datos_yahoo\n",
    "\n",
    "warnings.filterwarnings(\"ignore\")\n",
    "configurar_grafica()"
   ]
  },
  {
   "cell_type": "code",
   "execution_count": 2,
   "metadata": {},
   "outputs": [
    {
     "name": "stderr",
     "output_type": "stream",
     "text": [
      "[*********************100%***********************]  1 of 1 completed"
     ]
    },
    {
     "name": "stdout",
     "output_type": "stream",
     "text": [
      "                   open         high          low        close    adj close  \\\n",
      "time                                                                          \n",
      "2012-01-03  1568.900024  1604.300049  1566.000000  1599.699951  1599.699951   \n",
      "2012-01-04  1596.599976  1618.599976  1594.500000  1611.900024  1611.900024   \n",
      "2012-01-05  1610.800049  1624.099976  1597.800049  1619.400024  1619.400024   \n",
      "2012-01-06  1622.500000  1627.800049  1616.099976  1616.099976  1616.099976   \n",
      "2012-01-09  1614.300049  1620.099976  1607.500000  1607.500000  1607.500000   \n",
      "\n",
      "            volume  \n",
      "time                \n",
      "2012-01-03     229  \n",
      "2012-01-04     172  \n",
      "2012-01-05     362  \n",
      "2012-01-06      20  \n",
      "2012-01-09       8  \n"
     ]
    },
    {
     "name": "stderr",
     "output_type": "stream",
     "text": [
      "\n"
     ]
    }
   ],
   "source": [
    "# Ejemplo de uso:\n",
    "ticker_symbol = \"GC=F\"  # oro\n",
    "start_date = \"2012-01-01\"\n",
    "\n",
    "# Get today date in format 'YYYY-MM-DD'\n",
    "end_date = pd.to_datetime(\"today\").strftime(\"%Y-%m-%d\")\n",
    "\n",
    "# end_date = \"2023-12-31\"\n",
    "interval = \"1d\"\n",
    "\n",
    "data = descargar_datos_yahoo(ticker_symbol, start_date, end_date, interval)\n",
    "if data is not None:\n",
    "    print(data.head())"
   ]
  },
  {
   "cell_type": "code",
   "execution_count": 10,
   "metadata": {},
   "outputs": [
    {
     "data": {
      "text/html": [
       "<div>\n",
       "<style scoped>\n",
       "    .dataframe tbody tr th:only-of-type {\n",
       "        vertical-align: middle;\n",
       "    }\n",
       "\n",
       "    .dataframe tbody tr th {\n",
       "        vertical-align: top;\n",
       "    }\n",
       "\n",
       "    .dataframe thead th {\n",
       "        text-align: right;\n",
       "    }\n",
       "</style>\n",
       "<table border=\"1\" class=\"dataframe\">\n",
       "  <thead>\n",
       "    <tr style=\"text-align: right;\">\n",
       "      <th></th>\n",
       "      <th>open</th>\n",
       "      <th>high</th>\n",
       "      <th>low</th>\n",
       "      <th>close</th>\n",
       "      <th>adj close</th>\n",
       "      <th>volume</th>\n",
       "    </tr>\n",
       "    <tr>\n",
       "      <th>time</th>\n",
       "      <th></th>\n",
       "      <th></th>\n",
       "      <th></th>\n",
       "      <th></th>\n",
       "      <th></th>\n",
       "      <th></th>\n",
       "    </tr>\n",
       "  </thead>\n",
       "  <tbody>\n",
       "    <tr>\n",
       "      <th>2023-01-03</th>\n",
       "      <td>1836.199951</td>\n",
       "      <td>1839.699951</td>\n",
       "      <td>1836.199951</td>\n",
       "      <td>1839.699951</td>\n",
       "      <td>1839.699951</td>\n",
       "      <td>29</td>\n",
       "    </tr>\n",
       "    <tr>\n",
       "      <th>2023-01-04</th>\n",
       "      <td>1845.599976</td>\n",
       "      <td>1859.099976</td>\n",
       "      <td>1845.599976</td>\n",
       "      <td>1852.800049</td>\n",
       "      <td>1852.800049</td>\n",
       "      <td>25</td>\n",
       "    </tr>\n",
       "    <tr>\n",
       "      <th>2023-01-05</th>\n",
       "      <td>1855.199951</td>\n",
       "      <td>1855.199951</td>\n",
       "      <td>1834.800049</td>\n",
       "      <td>1834.800049</td>\n",
       "      <td>1834.800049</td>\n",
       "      <td>24</td>\n",
       "    </tr>\n",
       "    <tr>\n",
       "      <th>2023-01-06</th>\n",
       "      <td>1838.400024</td>\n",
       "      <td>1868.199951</td>\n",
       "      <td>1835.300049</td>\n",
       "      <td>1864.199951</td>\n",
       "      <td>1864.199951</td>\n",
       "      <td>26</td>\n",
       "    </tr>\n",
       "    <tr>\n",
       "      <th>2023-01-09</th>\n",
       "      <td>1867.000000</td>\n",
       "      <td>1880.000000</td>\n",
       "      <td>1867.000000</td>\n",
       "      <td>1872.699951</td>\n",
       "      <td>1872.699951</td>\n",
       "      <td>62</td>\n",
       "    </tr>\n",
       "    <tr>\n",
       "      <th>...</th>\n",
       "      <td>...</td>\n",
       "      <td>...</td>\n",
       "      <td>...</td>\n",
       "      <td>...</td>\n",
       "      <td>...</td>\n",
       "      <td>...</td>\n",
       "    </tr>\n",
       "    <tr>\n",
       "      <th>2024-09-16</th>\n",
       "      <td>2580.399902</td>\n",
       "      <td>2580.399902</td>\n",
       "      <td>2580.399902</td>\n",
       "      <td>2580.399902</td>\n",
       "      <td>2580.399902</td>\n",
       "      <td>28</td>\n",
       "    </tr>\n",
       "    <tr>\n",
       "      <th>2024-09-17</th>\n",
       "      <td>2581.199951</td>\n",
       "      <td>2581.800049</td>\n",
       "      <td>2564.300049</td>\n",
       "      <td>2564.300049</td>\n",
       "      <td>2564.300049</td>\n",
       "      <td>22</td>\n",
       "    </tr>\n",
       "    <tr>\n",
       "      <th>2024-09-18</th>\n",
       "      <td>2570.699951</td>\n",
       "      <td>2570.699951</td>\n",
       "      <td>2549.199951</td>\n",
       "      <td>2570.699951</td>\n",
       "      <td>2570.699951</td>\n",
       "      <td>25</td>\n",
       "    </tr>\n",
       "    <tr>\n",
       "      <th>2024-09-19</th>\n",
       "      <td>2566.000000</td>\n",
       "      <td>2588.000000</td>\n",
       "      <td>2566.000000</td>\n",
       "      <td>2588.000000</td>\n",
       "      <td>2588.000000</td>\n",
       "      <td>25</td>\n",
       "    </tr>\n",
       "    <tr>\n",
       "      <th>2024-09-20</th>\n",
       "      <td>2611.199951</td>\n",
       "      <td>2651.000000</td>\n",
       "      <td>2608.699951</td>\n",
       "      <td>2647.100098</td>\n",
       "      <td>2647.100098</td>\n",
       "      <td>197961</td>\n",
       "    </tr>\n",
       "  </tbody>\n",
       "</table>\n",
       "<p>432 rows × 6 columns</p>\n",
       "</div>"
      ],
      "text/plain": [
       "                   open         high          low        close    adj close  \\\n",
       "time                                                                          \n",
       "2023-01-03  1836.199951  1839.699951  1836.199951  1839.699951  1839.699951   \n",
       "2023-01-04  1845.599976  1859.099976  1845.599976  1852.800049  1852.800049   \n",
       "2023-01-05  1855.199951  1855.199951  1834.800049  1834.800049  1834.800049   \n",
       "2023-01-06  1838.400024  1868.199951  1835.300049  1864.199951  1864.199951   \n",
       "2023-01-09  1867.000000  1880.000000  1867.000000  1872.699951  1872.699951   \n",
       "...                 ...          ...          ...          ...          ...   \n",
       "2024-09-16  2580.399902  2580.399902  2580.399902  2580.399902  2580.399902   \n",
       "2024-09-17  2581.199951  2581.800049  2564.300049  2564.300049  2564.300049   \n",
       "2024-09-18  2570.699951  2570.699951  2549.199951  2570.699951  2570.699951   \n",
       "2024-09-19  2566.000000  2588.000000  2566.000000  2588.000000  2588.000000   \n",
       "2024-09-20  2611.199951  2651.000000  2608.699951  2647.100098  2647.100098   \n",
       "\n",
       "            volume  \n",
       "time                \n",
       "2023-01-03      29  \n",
       "2023-01-04      25  \n",
       "2023-01-05      24  \n",
       "2023-01-06      26  \n",
       "2023-01-09      62  \n",
       "...            ...  \n",
       "2024-09-16      28  \n",
       "2024-09-17      22  \n",
       "2024-09-18      25  \n",
       "2024-09-19      25  \n",
       "2024-09-20  197961  \n",
       "\n",
       "[432 rows x 6 columns]"
      ]
     },
     "execution_count": 10,
     "metadata": {},
     "output_type": "execute_result"
    }
   ],
   "source": [
    "data.loc[\"2023\":\"2024\"]"
   ]
  },
  {
   "cell_type": "code",
   "execution_count": 11,
   "metadata": {},
   "outputs": [
    {
     "data": {
      "text/plain": [
       "np.float64(0.23652053657807848)"
      ]
     },
     "execution_count": 11,
     "metadata": {},
     "output_type": "execute_result"
    }
   ],
   "source": [
    "calcular_tasa_rendimiento(data.loc[\"2023\":\"2024\"])"
   ]
  },
  {
   "cell_type": "code",
   "execution_count": 6,
   "metadata": {},
   "outputs": [],
   "source": [
    "# Crear media móvil simple de 30 días\n",
    "data[\"SMA fast\"] = data[\"close\"].rolling(30).mean()\n",
    "\n",
    "# Crear media móvil simple de 60 días\n",
    "data[\"SMA slow\"] = data[\"close\"].rolling(60).mean()"
   ]
  },
  {
   "cell_type": "code",
   "execution_count": null,
   "metadata": {},
   "outputs": [],
   "source": [
    "# Plot the results\n",
    "data[[\"close\", \"SMA fast\", \"SMA slow\"]].plot(figsize=(15, 8))"
   ]
  },
  {
   "cell_type": "code",
   "execution_count": null,
   "metadata": {},
   "outputs": [],
   "source": [
    "# Plot the results\n",
    "data[[\"close\", \"SMA fast\", \"SMA slow\"]].loc[\"2024\"].plot(figsize=(15, 8))"
   ]
  },
  {
   "cell_type": "code",
   "execution_count": 10,
   "metadata": {},
   "outputs": [],
   "source": [
    "data[\"position\"] = np.nan\n",
    "\n",
    "# Create the condition\n",
    "data.loc[(data[\"SMA fast\"] > data[\"SMA slow\"]), \"position\"] = 1\n",
    "data.loc[(data[\"SMA fast\"] < data[\"SMA slow\"]), \"position\"] = -1"
   ]
  },
  {
   "cell_type": "code",
   "execution_count": null,
   "metadata": {},
   "outputs": [],
   "source": [
    "# Representamos toda la señal para asegurarnos de que sea correcta\n",
    "\n",
    "year = \"2024\"\n",
    "\n",
    "# Seleccionar toda la señal en una lista de índices para representar sólo estos puntos\n",
    "idx_open = data.loc[data[\"position\"] == 1].loc[year].index\n",
    "idx_close = data.loc[data[\"position\"] == -1].loc[year].index\n",
    "\n",
    "\n",
    "# Adaptar el tamaño del gráfico\n",
    "plt.figure(figsize=(15, 6))\n",
    "\n",
    "# Representar los puntos de la señal larga 'open' en verde y la 'sell' en rojo\n",
    "plt.scatter(\n",
    "    idx_open, data.loc[idx_open][\"close\"].loc[year], color=\"#57CE95\", marker=\"^\"\n",
    ")\n",
    "plt.scatter(idx_close, data.loc[idx_close][\"close\"].loc[year], color=\"red\", marker=\"v\")\n",
    "\n",
    "\n",
    "# Representar la resistencia para asegurarse de que las condiciones se completan\n",
    "plt.plot(data[\"close\"].loc[year].index, data[\"close\"].loc[year], alpha=0.35)\n",
    "\n",
    "plt.plot(data[\"close\"].loc[year].index, data[\"SMA fast\"].loc[year], alpha=0.35)\n",
    "\n",
    "plt.plot(data[\"close\"].loc[year].index, data[\"SMA slow\"].loc[year], alpha=0.35)\n",
    "\n",
    "\n",
    "# Mostrar el gráfico\n",
    "plt.show()"
   ]
  },
  {
   "cell_type": "code",
   "execution_count": null,
   "metadata": {},
   "outputs": [],
   "source": [
    "# Calcular el porcentaje de variación del activo\n",
    "data[\"pct\"] = data[\"close\"].pct_change(1)\n",
    "\n",
    "# Calcular la rentabilidad (retorno) de la estrategia\n",
    "data[\"return\"] = data[\"pct\"] * data[\"position\"].shift(1)\n",
    "\n",
    "\n",
    "data[\"return\"].plot(figsize=(15, 8))"
   ]
  },
  {
   "cell_type": "code",
   "execution_count": null,
   "metadata": {},
   "outputs": [],
   "source": [
    "data[\"return\"].cumsum().plot(figsize=(15, 8))"
   ]
  },
  {
   "cell_type": "code",
   "execution_count": 14,
   "metadata": {},
   "outputs": [],
   "source": [
    "return_serie = data[\"adj close\"].pct_change(1).dropna()\n",
    "return_serie.name = \"return\""
   ]
  },
  {
   "cell_type": "code",
   "execution_count": null,
   "metadata": {},
   "outputs": [],
   "source": [
    "return_serie"
   ]
  },
  {
   "cell_type": "code",
   "execution_count": null,
   "metadata": {},
   "outputs": [],
   "source": [
    "# Calcular el índice de Sortino\n",
    "mean = np.mean(return_serie)  # 252\n",
    "vol = np.std(return_serie[return_serie < 0])  # np.sqrt(252)\n",
    "sortino = np.sqrt(252) * mean / vol\n",
    "\n",
    "print(f\"Sortino: {'%.3f' % sortino}\")"
   ]
  },
  {
   "cell_type": "code",
   "execution_count": null,
   "metadata": {},
   "outputs": [],
   "source": [
    "# Necesitamos calcular la covarianza entre el mercado y la cartera\n",
    "sp500 = yf.download(\"^GSPC\")[\"Adj Close\"].pct_change(1)\n",
    "sp500.name = \"SP500\"\n",
    "\n",
    "# Los concatenamos para hacer las covarianzas\n",
    "val = pd.concat((return_serie, sp500), axis=1).dropna()\n",
    "val"
   ]
  },
  {
   "cell_type": "code",
   "execution_count": null,
   "metadata": {},
   "outputs": [],
   "source": [
    "# Calculamos la matriz de covarianzas\n",
    "cov_var_mat = np.cov(val.values, rowvar=False)\n",
    "cov_var_mat"
   ]
  },
  {
   "cell_type": "code",
   "execution_count": null,
   "metadata": {},
   "outputs": [],
   "source": [
    "# Calculamos beta\n",
    "cov = cov_var_mat[0][1]\n",
    "var = cov_var_mat[1][1]\n",
    "\n",
    "beta = cov / var\n",
    "\n",
    "print(f\"Beta: {'%.3f' % beta}\")"
   ]
  },
  {
   "cell_type": "code",
   "execution_count": null,
   "metadata": {},
   "outputs": [],
   "source": [
    "# Calculamos alpha\n",
    "alpha = (252 * mean * (1 - beta)) * 100\n",
    "print(f\"Alpha: {'%.1f' % alpha} %\")"
   ]
  },
  {
   "cell_type": "code",
   "execution_count": 19,
   "metadata": {},
   "outputs": [],
   "source": [
    "def drawdown_function(serie):\n",
    "    # Calculamos la suma de los rendimientos\n",
    "    cum = serie.dropna().cumsum() + 1\n",
    "\n",
    "    # Calculamos el máximo de la suma en el período (máximo acumulado) # (1,3,5,3,1) --> (1,3,5,5,5)\n",
    "    running_max = np.maximum.accumulate(cum)\n",
    "\n",
    "    # Calculamos el drawdown\n",
    "    drawdown = cum / running_max - 1\n",
    "    return drawdown"
   ]
  },
  {
   "cell_type": "code",
   "execution_count": null,
   "metadata": {},
   "outputs": [],
   "source": [
    "# Calculamos el drawdown\n",
    "drawdown = drawdown_function(return_serie)\n",
    "drawdown"
   ]
  },
  {
   "cell_type": "code",
   "execution_count": null,
   "metadata": {},
   "outputs": [],
   "source": [
    "# Adaptar el tamaño de la figura\n",
    "plt.figure(figsize=(15, 8))\n",
    "\n",
    "# Representar el drawdown\n",
    "plt.fill_between(\n",
    "    drawdown.index, drawdown * 100, 0, drawdown, color=\"#CE5757\", alpha=0.65\n",
    ")\n",
    "\n",
    "# Añadimos el título\n",
    "plt.title(\"Drawdown\")\n",
    "\n",
    "# Etiqueta del eje de la y\n",
    "plt.ylabel(\"Drawdown en %\")\n",
    "\n",
    "plt.show()"
   ]
  },
  {
   "cell_type": "code",
   "execution_count": null,
   "metadata": {},
   "outputs": [],
   "source": [
    "# Computation Max drawdown\n",
    "max_drawdown = -np.min(drawdown) * 100\n",
    "print(f\"Max drawdown: {'%.1f' % max_drawdown} %\")"
   ]
  },
  {
   "cell_type": "code",
   "execution_count": 28,
   "metadata": {},
   "outputs": [],
   "source": [
    "def BackTest(serie, annualiazed_scalar=252):\n",
    "    # Importar el benchmark\n",
    "    sp500 = yf.download(\"^GSPC\")[\"Adj Close\"].pct_change(1)\n",
    "\n",
    "    # Cambiar el nombre\n",
    "    sp500.name = \"SP500\"\n",
    "\n",
    "    # Concatenar los retornos y el sp500\n",
    "    val = pd.concat((serie, sp500), axis=1).dropna()\n",
    "    # Calcular el drawdown\n",
    "    drawdown = drawdown_function(serie) * 100\n",
    "\n",
    "    # Calcular el max drawdown\n",
    "    max_drawdown = -np.min(drawdown)\n",
    "\n",
    "    # Put a subplots\n",
    "    fig, (cum, dra) = plt.subplots(1, 2, figsize=(20, 6))\n",
    "\n",
    "    # Put a Suptitle\n",
    "    fig.suptitle(\"Backtesting\", size=20)\n",
    "\n",
    "    # Returns cumsum chart\n",
    "    cum.plot(serie.cumsum() * 100, color=\"#39B3C7\")\n",
    "\n",
    "    # SP500 cumsum chart\n",
    "    cum.plot(val[\"SP500\"].cumsum() * 100, color=\"#B85A0F\")\n",
    "\n",
    "    # Put a legend\n",
    "    cum.legend([\"Portfolio\", \"SP500\"])\n",
    "\n",
    "    # Set individual title\n",
    "    cum.set_title(\"Cumulative Return\", size=13)\n",
    "\n",
    "    cum.set_ylabel(\"Cumulative Return %\", size=11)\n",
    "\n",
    "    # Put the drawdown\n",
    "    dra.fill_between(drawdown.index, 0, drawdown, color=\"#C73954\", alpha=0.65)\n",
    "\n",
    "    # Set individual title\n",
    "    dra.set_title(\"Drawdown\", size=13)\n",
    "\n",
    "    dra.set_ylabel(\"drawdown en %\", size=11)\n",
    "\n",
    "    # Plot the graph\n",
    "    plt.show()\n",
    "\n",
    "    # Calcular el índice sortino\n",
    "    sortino = np.sqrt(annualiazed_scalar) * serie.mean() / serie.loc[serie < 0].std()\n",
    "\n",
    "    # Calcular el índice  beta\n",
    "    beta = np.cov(val[[\"return\", \"SP500\"]].values, rowvar=False)[0][1] / np.var(\n",
    "        val[\"SP500\"].values\n",
    "    )\n",
    "\n",
    "    # Calcular el índice  alpha\n",
    "    alpha = annualiazed_scalar * (serie.mean() - beta * serie.mean())\n",
    "\n",
    "    # Imprimir los estadísticos\n",
    "    print(f\"Sortino: {np.round(sortino,3)}\")\n",
    "    print(f\"Beta: {np.round(beta,3)}\")\n",
    "    print(f\"Alpha: {np.round(alpha*100,3)} %\")\n",
    "    print(f\"MaxDrawdown: {np.round(max_drawdown,3)} %\")"
   ]
  },
  {
   "cell_type": "code",
   "execution_count": null,
   "metadata": {},
   "outputs": [],
   "source": [
    "BackTest(return_serie, annualiazed_scalar=252)"
   ]
  }
 ],
 "metadata": {
  "kernelspec": {
   "display_name": "pyfinancelab39",
   "language": "python",
   "name": "python3"
  },
  "language_info": {
   "codemirror_mode": {
    "name": "ipython",
    "version": 3
   },
   "file_extension": ".py",
   "mimetype": "text/x-python",
   "name": "python",
   "nbconvert_exporter": "python",
   "pygments_lexer": "ipython3",
   "version": "3.11.10"
  },
  "orig_nbformat": 4
 },
 "nbformat": 4,
 "nbformat_minor": 2
}
